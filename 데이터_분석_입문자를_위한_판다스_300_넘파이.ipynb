{
  "nbformat": 4,
  "nbformat_minor": 0,
  "metadata": {
    "colab": {
      "provenance": [],
      "authorship_tag": "ABX9TyON0Whk7+OqOqHGaNKx4FGD",
      "include_colab_link": true
    },
    "kernelspec": {
      "name": "python3",
      "display_name": "Python 3"
    },
    "language_info": {
      "name": "python"
    }
  },
  "cells": [
    {
      "cell_type": "markdown",
      "metadata": {
        "id": "view-in-github",
        "colab_type": "text"
      },
      "source": [
        "<a href=\"https://colab.research.google.com/github/yunssup/Python-Pandas-300-for-Beginners-in-Data-Analysis/blob/main/%EB%8D%B0%EC%9D%B4%ED%84%B0_%EB%B6%84%EC%84%9D_%EC%9E%85%EB%AC%B8%EC%9E%90%EB%A5%BC_%EC%9C%84%ED%95%9C_%ED%8C%90%EB%8B%A4%EC%8A%A4_300_%EB%84%98%ED%8C%8C%EC%9D%B4.ipynb\" target=\"_parent\"><img src=\"https://colab.research.google.com/assets/colab-badge.svg\" alt=\"Open In Colab\"/></a>"
      ]
    },
    {
      "cell_type": "markdown",
      "source": [
        "## ***넘파이 001~010***"
      ],
      "metadata": {
        "id": "nz24wi-huafx"
      }
    },
    {
      "cell_type": "code",
      "execution_count": null,
      "metadata": {
        "id": "AEs6PMU4sKix"
      },
      "outputs": [],
      "source": [
        "import numpy as np"
      ]
    },
    {
      "cell_type": "code",
      "source": [
        "# 리스트를 넘파이의 ndarray 객체로 변환해보세요.\n",
        "data = [1, 2, 3]\n",
        "np.array(data)"
      ],
      "metadata": {
        "colab": {
          "base_uri": "https://localhost:8080/"
        },
        "id": "usQM3_y3sYmu",
        "outputId": "20c4a675-47b9-401d-97e1-60c656a651f7"
      },
      "execution_count": null,
      "outputs": [
        {
          "output_type": "execute_result",
          "data": {
            "text/plain": [
              "array([1, 2, 3])"
            ]
          },
          "metadata": {},
          "execution_count": 3
        }
      ]
    },
    {
      "cell_type": "code",
      "source": [
        "# 0부터 99까지의 정수가 저장된 ndarray 객체를 만들어 보세요.\n",
        "np.arange(100)"
      ],
      "metadata": {
        "colab": {
          "base_uri": "https://localhost:8080/"
        },
        "id": "bdHUZbVxsbF7",
        "outputId": "c2c12bf4-70dc-44e5-fd09-4020c333c377"
      },
      "execution_count": null,
      "outputs": [
        {
          "output_type": "execute_result",
          "data": {
            "text/plain": [
              "array([ 0,  1,  2,  3,  4,  5,  6,  7,  8,  9, 10, 11, 12, 13, 14, 15, 16,\n",
              "       17, 18, 19, 20, 21, 22, 23, 24, 25, 26, 27, 28, 29, 30, 31, 32, 33,\n",
              "       34, 35, 36, 37, 38, 39, 40, 41, 42, 43, 44, 45, 46, 47, 48, 49, 50,\n",
              "       51, 52, 53, 54, 55, 56, 57, 58, 59, 60, 61, 62, 63, 64, 65, 66, 67,\n",
              "       68, 69, 70, 71, 72, 73, 74, 75, 76, 77, 78, 79, 80, 81, 82, 83, 84,\n",
              "       85, 86, 87, 88, 89, 90, 91, 92, 93, 94, 95, 96, 97, 98, 99])"
            ]
          },
          "metadata": {},
          "execution_count": 5
        }
      ]
    },
    {
      "cell_type": "code",
      "source": [
        "#구구단 3단의 결과가 저장된 ndarray 객체를 만들어 보세요.\n",
        "arr = np.arange(1,10)*3\n",
        "arr"
      ],
      "metadata": {
        "colab": {
          "base_uri": "https://localhost:8080/"
        },
        "id": "lHSqkbqVskUC",
        "outputId": "8ed219cf-247d-4c1c-fb16-52b10dabe84b"
      },
      "execution_count": null,
      "outputs": [
        {
          "output_type": "execute_result",
          "data": {
            "text/plain": [
              "array([ 3,  6,  9, 12, 15, 18, 21, 24, 27])"
            ]
          },
          "metadata": {},
          "execution_count": 8
        }
      ]
    },
    {
      "cell_type": "code",
      "source": [
        "# 1000보다 작은 짝수가 저장된 ndarray 객체를 만들어 보세요.\n",
        "# 3번째 파라미터는 증감폭을 의미\n",
        "arr = np.arange (1,100,2)\n",
        "arr"
      ],
      "metadata": {
        "colab": {
          "base_uri": "https://localhost:8080/"
        },
        "id": "xhH530C3sx16",
        "outputId": "52414134-1853-4368-f5de-eb1c096c8766"
      },
      "execution_count": null,
      "outputs": [
        {
          "output_type": "execute_result",
          "data": {
            "text/plain": [
              "array([ 1,  3,  5,  7,  9, 11, 13, 15, 17, 19, 21, 23, 25, 27, 29, 31, 33,\n",
              "       35, 37, 39, 41, 43, 45, 47, 49, 51, 53, 55, 57, 59, 61, 63, 65, 67,\n",
              "       69, 71, 73, 75, 77, 79, 81, 83, 85, 87, 89, 91, 93, 95, 97, 99])"
            ]
          },
          "metadata": {},
          "execution_count": 10
        }
      ]
    },
    {
      "cell_type": "code",
      "source": [
        "#0부터 1까지 0.1 간격으로 구성된 ndarray를 생성해보세요. 1은 포함되지 않습니다.\n",
        "arr = np.arange (0,1,0.1)\n",
        "arr"
      ],
      "metadata": {
        "colab": {
          "base_uri": "https://localhost:8080/"
        },
        "id": "HXa29IYQs-_V",
        "outputId": "e865eeca-fb7c-48ef-e2b9-f6166dc73fec"
      },
      "execution_count": null,
      "outputs": [
        {
          "output_type": "execute_result",
          "data": {
            "text/plain": [
              "array([0. , 0.1, 0.2, 0.3, 0.4, 0.5, 0.6, 0.7, 0.8, 0.9])"
            ]
          },
          "metadata": {},
          "execution_count": 13
        }
      ]
    },
    {
      "cell_type": "code",
      "source": [
        "# 리스트에는 6개의 데이터가 저장돼 있습니다.\n",
        "\n",
        "# data = [0, 1, 2, 3, 4, 5]\n",
        "\n",
        "# 다음과 같이 2행 3열의 ndarray로 변환하세요.\n",
        "\n",
        "# [[0 1 2]\n",
        "#  [3 4 5]]\n",
        "\n",
        "data = [0, 1, 2, 3, 4, 5]\n",
        "arr = np.array(data)\n",
        "arr.reshape(2,3)"
      ],
      "metadata": {
        "colab": {
          "base_uri": "https://localhost:8080/"
        },
        "id": "4rRZ3exttM9b",
        "outputId": "d3035b1a-f696-44f9-c9ae-9d446b641ebb"
      },
      "execution_count": null,
      "outputs": [
        {
          "output_type": "execute_result",
          "data": {
            "text/plain": [
              "array([[0, 1, 2],\n",
              "       [3, 4, 5]])"
            ]
          },
          "metadata": {},
          "execution_count": 18
        }
      ]
    },
    {
      "cell_type": "code",
      "source": [
        "# 다음의 2차원 ndarray 1차원 ndarray로 변환하세요.\n",
        "\n",
        "arr = np.array([\n",
        "    [0, 1, 2],\n",
        "    [3, 4, 5]\n",
        "])\n",
        "\n",
        "arr.reshape(6)\n",
        "arr.flatten()"
      ],
      "metadata": {
        "colab": {
          "base_uri": "https://localhost:8080/"
        },
        "id": "OI-9rHTqtMKj",
        "outputId": "51185b6e-4d44-40cc-d6ba-60c80bc2681d"
      },
      "execution_count": null,
      "outputs": [
        {
          "output_type": "execute_result",
          "data": {
            "text/plain": [
              "array([0, 1, 2, 3, 4, 5])"
            ]
          },
          "metadata": {},
          "execution_count": 21
        }
      ]
    },
    {
      "cell_type": "code",
      "source": [
        "# 주어진 ndarray를 다음과 같이 변경해 보세요.\n",
        "\n",
        "# arr = np.arange(3)\n",
        "\n",
        "arr.reshape(3,1)"
      ],
      "metadata": {
        "colab": {
          "base_uri": "https://localhost:8080/"
        },
        "id": "7ki6eTLstx4E",
        "outputId": "9ce7caaa-0323-4358-9619-9b23768117e3"
      },
      "execution_count": null,
      "outputs": [
        {
          "output_type": "execute_result",
          "data": {
            "text/plain": [
              "array([[0],\n",
              "       [1],\n",
              "       [2]])"
            ]
          },
          "metadata": {},
          "execution_count": 26
        }
      ]
    },
    {
      "cell_type": "markdown",
      "source": [
        "에러의 원인을 설명하세요.\n",
        "\n",
        "\n",
        "\n",
        "```\n",
        "> np.arange(6).reshape(2, 4)\n",
        "ValueError: cannot reshape array of size 6 into shape (2,4)\n",
        "```\n",
        "\n",
        "6개의 데이터가 저장된 ndarray를 생성했는데 이를 2행 4열의 ndarray로 변환하니 데이터의 개수가 부족함. 따라서 에러가 발생.\n"
      ],
      "metadata": {
        "id": "ZYd8UhxRuJ5f"
      }
    },
    {
      "cell_type": "markdown",
      "source": [
        "## ***넘파이 011~020***"
      ],
      "metadata": {
        "id": "HHiGQQSguo7E"
      }
    },
    {
      "cell_type": "code",
      "source": [
        "#다음과 같이 2차원 ndarray 객체를 정의하세요.\n",
        "\n",
        "data = [\n",
        "    [0, 1, 2],\n",
        "    [3, 4, 5]\n",
        "]\n",
        "arr = np.array(data)\n",
        "arr"
      ],
      "metadata": {
        "colab": {
          "base_uri": "https://localhost:8080/"
        },
        "id": "uQWFcyUrurxU",
        "outputId": "1d3d9b19-6fbb-406f-b1b9-3eb90940179b"
      },
      "execution_count": null,
      "outputs": [
        {
          "output_type": "execute_result",
          "data": {
            "text/plain": [
              "array([[0, 1, 2],\n",
              "       [3, 4, 5]])"
            ]
          },
          "metadata": {},
          "execution_count": 28
        }
      ]
    },
    {
      "cell_type": "code",
      "source": [
        "# 0~5 까지 일차원 배열 생성한 뒤 shape 를 변경하면 코드가 간단해짐\n",
        "np.arange(6).reshape(2, 3)"
      ],
      "metadata": {
        "colab": {
          "base_uri": "https://localhost:8080/"
        },
        "id": "W62tcmoqvvm2",
        "outputId": "fa5d249c-2184-4400-d575-1448ba507d5b"
      },
      "execution_count": null,
      "outputs": [
        {
          "output_type": "execute_result",
          "data": {
            "text/plain": [
              "array([[0, 1, 2],\n",
              "       [3, 4, 5]])"
            ]
          },
          "metadata": {},
          "execution_count": 30
        }
      ]
    },
    {
      "cell_type": "code",
      "source": [
        "# 1이 20개 저장된 아래의 ndarray 객체를 만들어 보세요.\n",
        "np.ones(20, dtype=int)"
      ],
      "metadata": {
        "colab": {
          "base_uri": "https://localhost:8080/"
        },
        "id": "7P86PbwpwTdi",
        "outputId": "807fa9d1-639c-42d9-de8a-8872b9d1033c"
      },
      "execution_count": null,
      "outputs": [
        {
          "output_type": "execute_result",
          "data": {
            "text/plain": [
              "array([1, 1, 1, 1, 1, 1, 1, 1, 1, 1, 1, 1, 1, 1, 1, 1, 1, 1, 1, 1])"
            ]
          },
          "metadata": {},
          "execution_count": 32
        }
      ]
    },
    {
      "cell_type": "code",
      "source": [
        "\n",
        "np.ones(20, dtype=int).reshape(4, 5)"
      ],
      "metadata": {
        "colab": {
          "base_uri": "https://localhost:8080/"
        },
        "id": "6f3vQOdawZJl",
        "outputId": "8c58ef0a-f5bf-46f1-81e6-39d7eaa5a8c5"
      },
      "execution_count": null,
      "outputs": [
        {
          "output_type": "execute_result",
          "data": {
            "text/plain": [
              "array([[1, 1, 1, 1, 1],\n",
              "       [1, 1, 1, 1, 1],\n",
              "       [1, 1, 1, 1, 1],\n",
              "       [1, 1, 1, 1, 1]])"
            ]
          },
          "metadata": {},
          "execution_count": 36
        }
      ]
    },
    {
      "cell_type": "code",
      "source": [
        "np.ones(100, dtype=int).reshape(10, 10)\n",
        "arr = arr*255\n",
        "arr"
      ],
      "metadata": {
        "colab": {
          "base_uri": "https://localhost:8080/"
        },
        "id": "LnfHybjfwjyj",
        "outputId": "dd898ce8-83b1-4af7-86c2-31df605e28dd"
      },
      "execution_count": null,
      "outputs": [
        {
          "output_type": "execute_result",
          "data": {
            "text/plain": [
              "array([65025, 65025, 65025, 65025, 65025, 65025, 65025, 65025, 65025,\n",
              "       65025, 65025, 65025, 65025, 65025, 65025, 65025, 65025, 65025,\n",
              "       65025, 65025])"
            ]
          },
          "metadata": {},
          "execution_count": 38
        }
      ]
    },
    {
      "cell_type": "code",
      "source": [
        "# 3x4 (행x열) 크기의 0으로 채워진 배열을 생생해보세요.\n",
        "arr = np.zeros((3, 4))\n",
        "arr"
      ],
      "metadata": {
        "colab": {
          "base_uri": "https://localhost:8080/"
        },
        "id": "P6QWz-9Pwo0g",
        "outputId": "4e952849-1da0-429f-cd36-e49fb9c61583"
      },
      "execution_count": null,
      "outputs": [
        {
          "output_type": "execute_result",
          "data": {
            "text/plain": [
              "array([[0., 0., 0., 0.],\n",
              "       [0., 0., 0., 0.],\n",
              "       [0., 0., 0., 0.]])"
            ]
          },
          "metadata": {},
          "execution_count": 42
        }
      ]
    },
    {
      "cell_type": "code",
      "source": [
        "# [1, 2, 3]을 np.int32 타입의 ndarray 배열로 생성하세요.\n",
        "\n",
        "import numpy as np\n",
        "\n",
        "data = [1, 2, 3]\n",
        "arr = np.ndarray(data, dtype=np.int32)\n",
        "arr"
      ],
      "metadata": {
        "colab": {
          "base_uri": "https://localhost:8080/"
        },
        "id": "q5wd_8grxpFu",
        "outputId": "6f3486d4-35bb-4790-ecb1-44deddcc6430"
      },
      "execution_count": null,
      "outputs": [
        {
          "output_type": "execute_result",
          "data": {
            "text/plain": [
              "array([[[823900570,     23560,         0],\n",
              "        [        0,        64,         0]]], dtype=int32)"
            ]
          },
          "metadata": {},
          "execution_count": 44
        }
      ]
    },
    {
      "cell_type": "code",
      "source": [
        "#다음 배열의 데이터 타입을 확인해보세요.\n",
        "\n",
        "arr = np.array([1, 2, 3])\n",
        "arr.dtype"
      ],
      "metadata": {
        "colab": {
          "base_uri": "https://localhost:8080/"
        },
        "id": "Gqc58c8Kxsyg",
        "outputId": "a84ec045-a971-49b4-a791-2651a5e08bb8"
      },
      "execution_count": null,
      "outputs": [
        {
          "output_type": "execute_result",
          "data": {
            "text/plain": [
              "dtype('int64')"
            ]
          },
          "metadata": {},
          "execution_count": 45
        }
      ]
    },
    {
      "cell_type": "code",
      "source": [
        "arr = np.array(['1', '2', '3'])\n",
        "arr.dtype\n",
        "# 1 바이트 문자열"
      ],
      "metadata": {
        "colab": {
          "base_uri": "https://localhost:8080/"
        },
        "id": "dT0TmcWRxya1",
        "outputId": "2fea2ff9-8719-4380-9258-f56f897f8776"
      },
      "execution_count": null,
      "outputs": [
        {
          "output_type": "execute_result",
          "data": {
            "text/plain": [
              "dtype('<U1')"
            ]
          },
          "metadata": {},
          "execution_count": 47
        }
      ]
    },
    {
      "cell_type": "code",
      "source": [
        "# 다음 데이터를 np.int16 타입의 배열로 형변환하세요.\n",
        "\n",
        "arr = np.array([1, 2, 3])\n",
        "arr.astype(np.int16)"
      ],
      "metadata": {
        "colab": {
          "base_uri": "https://localhost:8080/"
        },
        "id": "5tUksiSGx3XN",
        "outputId": "d2491f29-989f-406b-de46-a3f1bdca6a41"
      },
      "execution_count": null,
      "outputs": [
        {
          "output_type": "execute_result",
          "data": {
            "text/plain": [
              "array([1, 2, 3], dtype=int16)"
            ]
          },
          "metadata": {},
          "execution_count": 48
        }
      ]
    }
  ]
}